{
  "cells": [
    {
      "cell_type": "code",
      "source": [
        "import pandas as pd\n",
        "import matplotlib.pyplot as plt\n",
        "import seaborn as sns\n",
        "from sklearn.model_selection import train_test_split\n",
        "from sklearn.ensemble import RandomForestRegressor\n",
        "from sklearn.metrics import mean_absolute_error, mean_squared_error, r2_score\n",
        "import yfinance as yf\n",
        "\n",
        "ticker_symbol = '5PAISA.NS'\n",
        "ticker = yf.Ticker(ticker_symbol)\n",
        "df = ticker.history(period='6mo')\n",
        "df['SMA_10'] = df['Close'].rolling(window=10).mean()\n",
        "df['SMA_50'] = df['Close'].rolling(window=50).mean()\n",
        "#give me the last 50 value from df\n",
        "sma_50= sum(df.tail(50)['Close'])/50\n",
        "sma_10= sum(df.tail(50)['Close'][-10:])/10\n",
        "print(sma_50)\n",
        "print(sma_10)\n",
        "df = df.reset_index()\n",
        "# Load the dataset\n",
        "# url = '/content/sample_data/5PAISA.NS.csv'  # Replace with the correct path\n",
        "# df = pd.read_csv(url)\n",
        "\n",
        "# # Display the first few rows of the dataset\n",
        "print(df.tail())\n",
        "\n",
        "\n",
        "# # Feature Engineering: Create moving averages or other indicators\n",
        "# df['SMA_10'] = df['Close'].rolling(window=10).mean()\n",
        "# df['SMA_50'] = df['Close'].rolling(window=50).mean()\n",
        "\n",
        "# # Drop rows with NaN values created by rolling functions\n",
        "# df.dropna(inplace=True)\n",
        "\n",
        "# # Selecting features and target variable\n",
        "# # Example: Use 'open', 'high', 'low', 'volume', and moving averages as features\n",
        "# X = df[['Open', 'High', 'Low', 'Volume', 'SMA_10', 'SMA_50']]\n",
        "# y = df['Close']  # Target variable is 'close'\n",
        "# print(X)\n",
        "# # Split the data into training and testing sets\n",
        "# X_train, X_test, y_train, y_test = train_test_split(X, y, test_size=0.2, random_state=42)\n",
        "\n",
        "# # Initialize the model\n",
        "# model = RandomForestRegressor(n_estimators=100, random_state=42)\n",
        "\n",
        "# # Train the model\n",
        "# model.fit(X_train, y_train)\n",
        "\n",
        "# # Make predictions\n",
        "# y_pred = model.predict(X_test)\n",
        "\n",
        "# # Evaluate the model\n",
        "# mae = mean_absolute_error(y_test, y_pred)\n",
        "# mse = mean_squared_error(y_test, y_pred)\n",
        "# r2 = r2_score(y_test, y_pred)\n",
        "\n",
        "# print(f'Mean Absolute Error: {mae}')\n",
        "# print(f'Mean Squared Error: {mse}')\n",
        "# print(f'R-squared: {r2}')\n",
        "\n",
        "# # Visualize the actual vs predicted prices\n",
        "# plt.figure(figsize=(14, 7))\n",
        "# plt.plot(y_test.index, y_test, label='Actual Prices', color='blue')\n",
        "# plt.plot(y_test.index, y_pred, label='Predicted Prices', color='orange')\n",
        "# plt.title('Actual vs Predicted Stock Prices')\n",
        "# plt.xlabel('Date')\n",
        "# plt.ylabel('Price')\n",
        "# plt.legend()\n",
        "# plt.show()\n",
        "\n",
        "# # Visualize the residuals (errors)\n",
        "# residuals = y_test - y_pred\n",
        "# plt.figure(figsize=(14, 7))\n",
        "# sns.histplot(residuals, kde=True, color='purple')\n",
        "# plt.title('Residuals Distribution')\n",
        "# plt.xlabel('Residuals')\n",
        "# plt.ylabel('Frequency')\n",
        "# plt.show()\n",
        "\n",
        "# # Predicting future values (example)\n",
        "# future_data = X_test.iloc[-1:]  # Taking the last test set feature values\n",
        "# print(future_data)\n",
        "# print(X.tail(1))\n",
        "# # new_input = pd.DataFrame({\n",
        "# #     'Open': [df.tail(1)['Open']],\n",
        "# #     'High': [df.tail(1)['High']],\n",
        "# #     'Low': [df.tail(1)['Low']],\n",
        "# #     'Volume': [df.tail(1)['Volume']],\n",
        "# #     'SMA_10': [df.tail(1)['SMA_10'],\n",
        "# #     'SMA_50': [df.tail(1)['SMA_50']\n",
        "# # })\n",
        "# future_prediction = model.predict(X.tail(1))\n",
        "# print(f'Future prediction: {future_prediction}')\n",
        "\n",
        "# # Visualize future prediction\n",
        "# plt.figure(figsize=(14, 7))\n",
        "# plt.plot(df.index, df['Close'], label='Close Price', color='blue')\n",
        "# plt.axvline(x=future_data.index[0], color='green', linestyle='--', label='Prediction Point')\n",
        "# plt.scatter(future_data.index, future_prediction, color='red', label='Future Prediction')\n",
        "# plt.title('Stock Prices with Future Prediction')\n",
        "# plt.xlabel('Date')\n",
        "# plt.ylabel('Price')\n",
        "# plt.legend()\n",
        "# plt.show()\n"
      ],
      "metadata": {
        "id": "yCSoVkk1nSbv",
        "outputId": "541fda42-6fd3-4d0e-a9db-43849d799a7d",
        "colab": {
          "base_uri": "https://localhost:8080/"
        }
      },
      "execution_count": null,
      "outputs": [
        {
          "output_type": "stream",
          "name": "stdout",
          "text": [
            "527.1349987792969\n",
            "507.9899932861328\n",
            "                         Date        Open        High         Low       Close  \\\n",
            "123 2024-11-04 00:00:00+05:30  524.650024  524.650024  502.000000  506.899994   \n",
            "124 2024-11-05 00:00:00+05:30  507.850006  509.399994  497.899994  504.049988   \n",
            "125 2024-11-06 00:00:00+05:30  509.000000  514.950012  504.250000  510.500000   \n",
            "126 2024-11-07 00:00:00+05:30  515.599976  518.450012  506.299988  509.100006   \n",
            "127 2024-11-08 00:00:00+05:30  510.549988  510.549988  500.000000  500.500000   \n",
            "\n",
            "     Volume  Dividends  Stock Splits      SMA_10      SMA_50  \n",
            "123   36651        0.0           0.0  504.889996  528.294999  \n",
            "124   42928        0.0           0.0  504.744995  527.885999  \n",
            "125   45524        0.0           0.0  505.459995  527.521998  \n",
            "126   31778        0.0           0.0  506.649994  527.302999  \n",
            "127   43738        0.0           0.0  507.989993  527.134999  \n"
          ]
        }
      ]
    },
    {
      "cell_type": "code",
      "source": [
        "print(df.columns)\n",
        "# Drop rows with NaN values created by rolling functions\n",
        "df.dropna(inplace=True)"
      ],
      "metadata": {
        "id": "qHypbOfCrSgD"
      },
      "execution_count": null,
      "outputs": []
    },
    {
      "cell_type": "code",
      "source": [
        "# Selecting features and target variable\n",
        "# Example: Use 'open', 'high', 'low', 'volume', and moving averages as features\n",
        "X = df[['Open', 'High', 'Low', 'Volume', 'SMA_10', 'SMA_50']]\n",
        "y = df['Close']  # Target variable is 'close'\n",
        "print(X)\n",
        "# Split the data into training and testing sets\n",
        "X_train, X_test, y_train, y_test = train_test_split(X, y, test_size=0.2, random_state=42)"
      ],
      "metadata": {
        "id": "iBMc61lEvdk_"
      },
      "execution_count": null,
      "outputs": []
    },
    {
      "cell_type": "code",
      "source": [
        "# # Initialize the model\n",
        "model = RandomForestRegressor(n_estimators=185, random_state=42)\n",
        "\n",
        "# Train the model\n",
        "model.fit(X_train, y_train)\n",
        "# Make predictions\n",
        "y_pred = model.predict(X_test)\n",
        "\n",
        "mae = mean_absolute_error(y_test, y_pred)\n",
        "mse = mean_squared_error(y_test, y_pred)\n",
        "r2 = r2_score(y_test, y_pred)\n",
        "\n",
        "print(f'Mean Absolute Error: {mae}')\n",
        "print(f'Mean Squared Error: {mse}')\n",
        "print(f'R-squared: {r2}')"
      ],
      "metadata": {
        "collapsed": true,
        "id": "6Cw1YGqiwhSt"
      },
      "execution_count": null,
      "outputs": []
    },
    {
      "cell_type": "code",
      "source": [
        "# Evaluate the model\n",
        "mae = mean_absolute_error(y_test, y_pred)\n",
        "mse = mean_squared_error(y_test, y_pred)\n",
        "r2 = r2_score(y_test, y_pred)\n",
        "\n",
        "print(f'Mean Absolute Error: {mae}')\n",
        "print(f'Mean Squared Error: {mse}')\n",
        "print(f'R-squared: {r2}')"
      ],
      "metadata": {
        "id": "gNYn4aHawsMe"
      },
      "execution_count": null,
      "outputs": []
    },
    {
      "cell_type": "code",
      "source": [
        "new_input = pd.DataFrame({\n",
        "    'Open': [df.tail(1)['Open']],\n",
        "    # 'High': [df.tail(1)['High']],\n",
        "    # 'Low': [df.tail(1)['Low']],\n",
        "    # 'Volume': [df.tail(1)['Volume']],\n",
        "    'SMA_10': [df.tail(1)['SMA_10']],\n",
        "    'SMA_50': [df.tail(1)['SMA_50']]\n",
        "})\n",
        "future_prediction = model.predict(df.tail(1).drop(columns=['Close','Date','Dividends','Stock Splits']))\n",
        "print(df.tail(1))\n",
        "print(f'Future prediction: {future_prediction}')"
      ],
      "metadata": {
        "id": "Cj4EKW_lxubT"
      },
      "execution_count": null,
      "outputs": []
    },
    {
      "cell_type": "code",
      "source": [],
      "metadata": {
        "id": "HkP161ZHz1Tv"
      },
      "execution_count": null,
      "outputs": []
    }
  ],
  "metadata": {
    "colab": {
      "provenance": []
    },
    "kernelspec": {
      "display_name": "Python 3",
      "name": "python3"
    }
  },
  "nbformat": 4,
  "nbformat_minor": 0
}